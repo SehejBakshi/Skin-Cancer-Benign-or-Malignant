{
 "cells": [
  {
   "cell_type": "code",
   "execution_count": 1,
   "metadata": {
    "_cell_guid": "b1076dfc-b9ad-4769-8c92-a6c4dae69d19",
    "_uuid": "8f2839f25d086af736a60e9eeb907d3b93b6e0e5"
   },
   "outputs": [
    {
     "name": "stderr",
     "output_type": "stream",
     "text": [
      "Using TensorFlow backend.\n"
     ]
    }
   ],
   "source": [
    "import matplotlib.pyplot as plt\n",
    "from glob import glob\n",
    "from skimage.io import imread\n",
    "from skimage.color import rgb2gray\n",
    "from sklearn.model_selection import train_test_split\n",
    "import keras\n",
    "import numpy as np\n",
    "\n",
    "from keras.models import Sequential\n",
    "from keras.layers import (  Dense,\n",
    "                            Flatten,\n",
    "                            LeakyReLU\n",
    "                         )\n",
    "from keras.applications import  VGG19 \n",
    "from keras.optimizers import Adam\n",
    "from keras.utils.np_utils import to_categorical\n",
    "from skimage.transform import resize\n",
    "from tqdm import tqdm\n",
    "from keras.preprocessing.image import ImageDataGenerator"
   ]
  },
  {
   "cell_type": "code",
   "execution_count": 2,
   "metadata": {},
   "outputs": [],
   "source": [
    "def hist(History):\n",
    "    fig, ax = plt.subplots(1, 2, figsize=(20, 5))\n",
    "\n",
    "    ax[0].plot(History.history['loss'])\n",
    "    ax[0].plot(History.history['val_loss'])\n",
    "    ax[0].legend(['Training loss', 'Validation Loss'],fontsize=18)\n",
    "    ax[0].set_xlabel('Epochs ',fontsize=16)\n",
    "    ax[0].set_ylabel('Loss',fontsize=16)\n",
    "    ax[0].set_title('Training loss x Validation Loss',fontsize=16)\n",
    "\n",
    "\n",
    "    ax[1].plot(History.history['acc'])\n",
    "    ax[1].plot(History.history['val_acc'])\n",
    "    ax[1].legend(['Training Accuracy', 'Validation Accuracy'],fontsize=18)\n",
    "    ax[1].set_xlabel('Epochs ',fontsize=16)\n",
    "    ax[1].set_ylabel('Accuracy',fontsize=16)\n",
    "    ax[1].set_title('Training Accuracy x Validation Accuracy',fontsize=16)"
   ]
  },
  {
   "cell_type": "code",
   "execution_count": 3,
   "metadata": {},
   "outputs": [],
   "source": [
    "def plot_any(arr, title = ''):\n",
    "    plt.figure(figsize = (15, 25))\n",
    "    for i in range(len(arr)):\n",
    "        plt.subplot(1,len(arr),i + 1)\n",
    "        plt.title(title)\n",
    "        plt.imshow(arr[i], cmap = 'gray');"
   ]
  },
  {
   "cell_type": "code",
   "execution_count": 4,
   "metadata": {},
   "outputs": [],
   "source": [
    "path = '../input/skin-cancer-malignant-vs-benign/data/'\n",
    "train_path = glob(path + 'train/*')\n",
    "test_path = glob(path + 'test/*')"
   ]
  },
  {
   "cell_type": "code",
   "execution_count": 5,
   "metadata": {},
   "outputs": [
    {
     "name": "stderr",
     "output_type": "stream",
     "text": [
      "100%|██████████| 2/2 [00:49<00:00, 24.58s/it]\n",
      "100%|██████████| 2/2 [00:12<00:00,  6.02s/it]\n"
     ]
    }
   ],
   "source": [
    "train_imgs = []\n",
    "train_labels = []\n",
    "test_imgs  = []\n",
    "test_labels = []\n",
    "\n",
    "x, y, z = 224, 224, 3\n",
    "\n",
    "#train\n",
    "for klass, folder in enumerate(tqdm(train_path)):\n",
    "    for img in glob(folder + '/*'):\n",
    "        \n",
    "        img_resize = imread(img)\n",
    "        img_resize = resize(img_resize, (x, y, z))\n",
    "\n",
    "        train_imgs.append(img_resize)\n",
    "        train_labels.append(klass)\n",
    "        \n",
    "#test\n",
    "for klass, folder in enumerate(tqdm(test_path)):\n",
    "    for img in glob(folder + '/*'):\n",
    "        \n",
    "        img_resize = imread(img)\n",
    "        img_resize = resize(img_resize, (x, y, z))\n",
    "\n",
    "        test_imgs.append(img_resize)\n",
    "        test_labels.append(klass)"
   ]
  },
  {
   "cell_type": "code",
   "execution_count": 6,
   "metadata": {},
   "outputs": [
    {
     "name": "stdout",
     "output_type": "stream",
     "text": [
      "Treino: 2637 \n",
      "Teste: 660\n"
     ]
    }
   ],
   "source": [
    "print('Treino: {} \\nTeste: {}'.format(len(train_imgs), len(test_imgs)))"
   ]
  },
  {
   "cell_type": "code",
   "execution_count": 7,
   "metadata": {},
   "outputs": [],
   "source": [
    "train_imgs = np.asarray(train_imgs)\n",
    "test_imgs = np.asarray(test_imgs)\n",
    "\n",
    "train_labels =  np.asarray(train_labels)\n",
    "test_labels =  np.asarray(test_labels)"
   ]
  },
  {
   "cell_type": "code",
   "execution_count": 8,
   "metadata": {},
   "outputs": [],
   "source": [
    "NUM_CLASSES = 1\n",
    "EPOCHS = 15\n",
    "BATCH_SIZE = 64\n",
    "inputShape = (x, y, z)"
   ]
  },
  {
   "cell_type": "code",
   "execution_count": 9,
   "metadata": {},
   "outputs": [],
   "source": [
    "X_train, X_test, y_train, y_test = train_test_split(\n",
    "    train_imgs, \n",
    "    train_labels,\n",
    "    test_size = 0.3, \n",
    ")"
   ]
  },
  {
   "cell_type": "code",
   "execution_count": 10,
   "metadata": {},
   "outputs": [],
   "source": [
    "train_datagen = ImageDataGenerator( rescale = 1./255,\n",
    "                                    rotation_range=90,\n",
    "                                    width_shift_range=0.15,\n",
    "                                    height_shift_range=0.15,\n",
    "                                    horizontal_flip = True,\n",
    "                                    vertical_flip = True,\n",
    "                                    zoom_range=(0.9,1),\n",
    "                                    fill_mode= 'nearest',\n",
    "                                    brightness_range=(0.8, 1.2),\n",
    "                                  )\n",
    "\n",
    "train_generator = train_datagen.flow(X_train, y_train, batch_size = BATCH_SIZE)\n",
    "val_generator = train_datagen.flow(X_test, y_test, batch_size = BATCH_SIZE, shuffle = True)"
   ]
  },
  {
   "cell_type": "code",
   "execution_count": 11,
   "metadata": {},
   "outputs": [
    {
     "name": "stdout",
     "output_type": "stream",
     "text": [
      "Downloading data from https://github.com/fchollet/deep-learning-models/releases/download/v0.1/vgg19_weights_tf_dim_ordering_tf_kernels_notop.h5\n",
      "80142336/80134624 [==============================] - 2s 0us/step\n",
      "Epoch 1/15\n",
      "41/41 [==============================] - 44s 1s/step - loss: 0.6009 - acc: 0.7025 - val_loss: 0.4649 - val_acc: 0.8094\n",
      "Epoch 2/15\n",
      "41/41 [==============================] - 42s 1s/step - loss: 0.4620 - acc: 0.7773 - val_loss: 0.4254 - val_acc: 0.7883\n",
      "Epoch 3/15\n",
      "41/41 [==============================] - 39s 957ms/step - loss: 0.4557 - acc: 0.7811 - val_loss: 0.3551 - val_acc: 0.8050\n",
      "Epoch 4/15\n",
      "41/41 [==============================] - 38s 921ms/step - loss: 0.4166 - acc: 0.8048 - val_loss: 0.3836 - val_acc: 0.7983\n",
      "Epoch 5/15\n",
      "41/41 [==============================] - 39s 960ms/step - loss: 0.4267 - acc: 0.7880 - val_loss: 0.2891 - val_acc: 0.8594\n",
      "Epoch 6/15\n",
      "41/41 [==============================] - 44s 1s/step - loss: 0.3936 - acc: 0.8082 - val_loss: 0.3222 - val_acc: 0.8133\n",
      "Epoch 7/15\n",
      "41/41 [==============================] - 36s 867ms/step - loss: 0.3983 - acc: 0.8125 - val_loss: 0.3885 - val_acc: 0.8583\n",
      "Epoch 8/15\n",
      "41/41 [==============================] - 39s 959ms/step - loss: 0.3858 - acc: 0.8105 - val_loss: 0.3586 - val_acc: 0.8500\n",
      "Epoch 9/15\n",
      "41/41 [==============================] - 39s 961ms/step - loss: 0.3871 - acc: 0.8110 - val_loss: 0.2667 - val_acc: 0.8562\n",
      "Epoch 10/15\n",
      "41/41 [==============================] - 45s 1s/step - loss: 0.3950 - acc: 0.8086 - val_loss: 0.2969 - val_acc: 0.8567\n",
      "Epoch 11/15\n",
      "41/41 [==============================] - 37s 905ms/step - loss: 0.3657 - acc: 0.8255 - val_loss: 0.3119 - val_acc: 0.8683\n",
      "Epoch 12/15\n",
      "41/41 [==============================] - 36s 881ms/step - loss: 0.3817 - acc: 0.8178 - val_loss: 0.3216 - val_acc: 0.8250\n",
      "Epoch 13/15\n",
      "41/41 [==============================] - 40s 981ms/step - loss: 0.3680 - acc: 0.8232 - val_loss: 0.2306 - val_acc: 0.8450\n",
      "Epoch 14/15\n",
      "41/41 [==============================] - 41s 1s/step - loss: 0.3607 - acc: 0.8209 - val_loss: 0.4084 - val_acc: 0.8562\n",
      "Epoch 15/15\n",
      "41/41 [==============================] - 44s 1s/step - loss: 0.3649 - acc: 0.8251 - val_loss: 0.3136 - val_acc: 0.8567\n"
     ]
    }
   ],
   "source": [
    "model = Sequential()\n",
    "model.add(VGG19(include_top=False, weights='imagenet', input_shape= inputShape))\n",
    "model.add(Flatten())\n",
    "model.add(Dense(32))\n",
    "model.add(LeakyReLU(0.001))\n",
    "model.add(Dense(16))\n",
    "model.add(LeakyReLU(0.001))\n",
    "model.add(Dense(1, activation='sigmoid'))\n",
    "model.layers[0].trainable = False\n",
    "\n",
    "model.compile(loss=keras.losses.binary_crossentropy, optimizer='adam', metrics=['acc'])\n",
    "\n",
    "History = model.fit_generator(train_generator,\n",
    "    steps_per_epoch = len(train_imgs) // BATCH_SIZE,\n",
    "    epochs = EPOCHS, \n",
    "    validation_data = val_generator,\n",
    "    validation_steps = len(test_imgs) // BATCH_SIZE,\n",
    ")"
   ]
  },
  {
   "cell_type": "code",
   "execution_count": 12,
   "metadata": {},
   "outputs": [
    {
     "name": "stdout",
     "output_type": "stream",
     "text": [
      "660/660 [==============================] - 3s 5ms/step\n",
      "Accuracy...: 0.84%\n",
      "loss.......: 0.34\n"
     ]
    }
   ],
   "source": [
    "loss, accu = model.evaluate(test_imgs, test_labels)\n",
    "print(\"%s: %.2f%%\" % ('Accuracy...', accu))\n",
    "print(\"%s: %.2f\" % ('loss.......', loss))"
   ]
  },
  {
   "cell_type": "code",
   "execution_count": null,
   "metadata": {},
   "outputs": [],
   "source": []
  },
  {
   "cell_type": "code",
   "execution_count": null,
   "metadata": {},
   "outputs": [],
   "source": []
  },
  {
   "cell_type": "code",
   "execution_count": null,
   "metadata": {},
   "outputs": [],
   "source": []
  }
 ],
 "metadata": {
  "kernelspec": {
   "display_name": "Python 3",
   "language": "python",
   "name": "python3"
  },
  "language_info": {
   "codemirror_mode": {
    "name": "ipython",
    "version": 3
   },
   "file_extension": ".py",
   "mimetype": "text/x-python",
   "name": "python",
   "nbconvert_exporter": "python",
   "pygments_lexer": "ipython3",
   "version": "3.6.6"
  }
 },
 "nbformat": 4,
 "nbformat_minor": 4
}
